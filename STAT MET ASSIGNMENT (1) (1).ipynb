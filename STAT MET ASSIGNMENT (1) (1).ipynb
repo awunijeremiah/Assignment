{
 "cells": [
  {
   "cell_type": "markdown",
   "id": "c74ce81d",
   "metadata": {},
   "source": [
    "USING GAUGE AND SATELLITE DATASETS (SatA and SatB) TO QUANTIFY THE ERRORS AND ACCURACIES WITHIN THE SATELLITE DATASETS"
   ]
  },
  {
   "cell_type": "code",
   "execution_count": 29,
   "id": "2621cba4",
   "metadata": {},
   "outputs": [],
   "source": [
    "import numpy as np\n",
    "import pandas as pd\n",
    "import matplotlib.pyplot as plt\n",
    "import xarray as xr\n",
    "from sklearn.metrics import mean_absolute_error, mean_squared_error"
   ]
  },
  {
   "cell_type": "markdown",
   "id": "2ae84a67",
   "metadata": {},
   "source": [
    "READING THE DATA"
   ]
  },
  {
   "cell_type": "code",
   "execution_count": 2,
   "id": "fcd87138",
   "metadata": {},
   "outputs": [],
   "source": [
    "gauge_data_Accra= xr.open_dataset('Accra_gauge.nc')\n",
    "gauge_data_kumasi= xr.open_dataset('Kumasi_gauge.nc')\n",
    "Accra_SatA=xr.open_dataset('Accra_SatA.nc')\n",
    "Accra_SatB=xr.open_dataset('Accra_SatB.nc')\n",
    "Kumasi_SatA=xr.open_dataset('Kumasi_SatA.nc')\n",
    "Kumasi_SatB=xr.open_dataset('Kumasi_SatB.nc')"
   ]
  },
  {
   "cell_type": "markdown",
   "id": "144418a3",
   "metadata": {},
   "source": [
    "ACCRA"
   ]
  },
  {
   "cell_type": "markdown",
   "id": "9924e2aa",
   "metadata": {},
   "source": [
    "USING REQUIRED DIMENTION FOR NORMALIZATION"
   ]
  },
  {
   "cell_type": "code",
   "execution_count": 3,
   "id": "b53528f0",
   "metadata": {},
   "outputs": [],
   "source": [
    "Accragauge_data=gauge_data_Accra.sel(lon=-0.19, lat=5.60, method='nearest')\n",
    "AccrasatA_data=Accra_SatA.sel(lon=-0.19, lat=5.60, method='nearest')\n",
    "AccrasatB_data=Accra_SatB.sel(lon=-0.19, lat=5.60, method='nearest')"
   ]
  },
  {
   "cell_type": "markdown",
   "id": "03700ee4",
   "metadata": {},
   "source": [
    "SELECTING PRECIPITATION AND GROUPING BY TIME.MONTH"
   ]
  },
  {
   "cell_type": "code",
   "execution_count": 4,
   "id": "1dbc54e1",
   "metadata": {},
   "outputs": [],
   "source": [
    "gauge_Accra=Accragauge_data['precip']\n",
    "guageAP =gauge_Accra.groupby('time.month').mean()\n",
    "SatAP_Accra=AccrasatA_data['pre']\n",
    "AsatA_precip = SatAP_Accra.groupby('time.month').mean()\n",
    "ASatB=AccrasatB_data['precip']\n",
    "AsatB_precip=ASatB.groupby('time.month').mean()"
   ]
  },
  {
   "cell_type": "markdown",
   "id": "59f0961d",
   "metadata": {},
   "source": [
    "EXTRACTING THE VALUES FOR THE SATELLITE AND GAUGE PRECIPITATION DATA"
   ]
  },
  {
   "cell_type": "code",
   "execution_count": 5,
   "id": "baad037b",
   "metadata": {},
   "outputs": [],
   "source": [
    "Accra_gauge1= guageAP.data\n",
    "Accra_satA1= AsatA_precip.data\n",
    "Accra_satB1= AsatB_precip.data"
   ]
  },
  {
   "cell_type": "code",
   "execution_count": 6,
   "id": "06a385a0",
   "metadata": {},
   "outputs": [
    {
     "data": {
      "text/html": [
       "<div>\n",
       "<style scoped>\n",
       "    .dataframe tbody tr th:only-of-type {\n",
       "        vertical-align: middle;\n",
       "    }\n",
       "\n",
       "    .dataframe tbody tr th {\n",
       "        vertical-align: top;\n",
       "    }\n",
       "\n",
       "    .dataframe thead th {\n",
       "        text-align: right;\n",
       "    }\n",
       "</style>\n",
       "<table border=\"1\" class=\"dataframe\">\n",
       "  <thead>\n",
       "    <tr style=\"text-align: right;\">\n",
       "      <th></th>\n",
       "      <th>month</th>\n",
       "      <th>AccraGauge</th>\n",
       "      <th>AccrasatA</th>\n",
       "      <th>AccrasatB</th>\n",
       "    </tr>\n",
       "  </thead>\n",
       "  <tbody>\n",
       "    <tr>\n",
       "      <th>0</th>\n",
       "      <td>Jan</td>\n",
       "      <td>8.540159</td>\n",
       "      <td>15.995239</td>\n",
       "      <td>17.815241</td>\n",
       "    </tr>\n",
       "    <tr>\n",
       "      <th>1</th>\n",
       "      <td>Feb</td>\n",
       "      <td>16.395304</td>\n",
       "      <td>27.966665</td>\n",
       "      <td>32.788570</td>\n",
       "    </tr>\n",
       "    <tr>\n",
       "      <th>2</th>\n",
       "      <td>March</td>\n",
       "      <td>51.106579</td>\n",
       "      <td>70.761909</td>\n",
       "      <td>79.582855</td>\n",
       "    </tr>\n",
       "    <tr>\n",
       "      <th>3</th>\n",
       "      <td>April</td>\n",
       "      <td>94.385422</td>\n",
       "      <td>113.033333</td>\n",
       "      <td>112.185707</td>\n",
       "    </tr>\n",
       "    <tr>\n",
       "      <th>4</th>\n",
       "      <td>May</td>\n",
       "      <td>144.088928</td>\n",
       "      <td>156.671432</td>\n",
       "      <td>153.525726</td>\n",
       "    </tr>\n",
       "    <tr>\n",
       "      <th>5</th>\n",
       "      <td>Jun</td>\n",
       "      <td>161.900360</td>\n",
       "      <td>188.938095</td>\n",
       "      <td>187.166183</td>\n",
       "    </tr>\n",
       "    <tr>\n",
       "      <th>6</th>\n",
       "      <td>Jul</td>\n",
       "      <td>65.193138</td>\n",
       "      <td>82.990486</td>\n",
       "      <td>88.259521</td>\n",
       "    </tr>\n",
       "    <tr>\n",
       "      <th>7</th>\n",
       "      <td>Aug</td>\n",
       "      <td>23.391615</td>\n",
       "      <td>38.219048</td>\n",
       "      <td>45.588097</td>\n",
       "    </tr>\n",
       "    <tr>\n",
       "      <th>8</th>\n",
       "      <td>Sep</td>\n",
       "      <td>50.627918</td>\n",
       "      <td>85.861900</td>\n",
       "      <td>74.038094</td>\n",
       "    </tr>\n",
       "    <tr>\n",
       "      <th>9</th>\n",
       "      <td>Oct</td>\n",
       "      <td>59.662731</td>\n",
       "      <td>127.780960</td>\n",
       "      <td>107.182861</td>\n",
       "    </tr>\n",
       "    <tr>\n",
       "      <th>10</th>\n",
       "      <td>Nov</td>\n",
       "      <td>35.236103</td>\n",
       "      <td>56.952381</td>\n",
       "      <td>60.273804</td>\n",
       "    </tr>\n",
       "    <tr>\n",
       "      <th>11</th>\n",
       "      <td>Dec</td>\n",
       "      <td>28.263195</td>\n",
       "      <td>27.304764</td>\n",
       "      <td>32.358097</td>\n",
       "    </tr>\n",
       "  </tbody>\n",
       "</table>\n",
       "</div>"
      ],
      "text/plain": [
       "    month  AccraGauge   AccrasatA   AccrasatB\n",
       "0     Jan    8.540159   15.995239   17.815241\n",
       "1     Feb   16.395304   27.966665   32.788570\n",
       "2   March   51.106579   70.761909   79.582855\n",
       "3   April   94.385422  113.033333  112.185707\n",
       "4     May  144.088928  156.671432  153.525726\n",
       "5     Jun  161.900360  188.938095  187.166183\n",
       "6     Jul   65.193138   82.990486   88.259521\n",
       "7     Aug   23.391615   38.219048   45.588097\n",
       "8     Sep   50.627918   85.861900   74.038094\n",
       "9     Oct   59.662731  127.780960  107.182861\n",
       "10    Nov   35.236103   56.952381   60.273804\n",
       "11    Dec   28.263195   27.304764   32.358097"
      ]
     },
     "execution_count": 6,
     "metadata": {},
     "output_type": "execute_result"
    }
   ],
   "source": [
    "month = ['Jan', 'Feb', 'March', 'April', 'May', 'Jun', 'Jul', 'Aug', 'Sep', 'Oct', 'Nov', 'Dec']\n",
    "data = {'month': month, \n",
    "        'AccraGauge': Accra_gauge1, \n",
    "        'AccrasatA': Accra_satA1,\"AccrasatB\":Accra_satB1 }\n",
    "Accra_df = pd.DataFrame(data=data)\n",
    "Accra_df"
   ]
  },
  {
   "cell_type": "markdown",
   "id": "2bbee291",
   "metadata": {},
   "source": [
    "Calculating error metrics"
   ]
  },
  {
   "cell_type": "code",
   "execution_count": 7,
   "id": "c74e50a2",
   "metadata": {},
   "outputs": [],
   "source": [
    "def calculate_errors(true, pred):\n",
    "    mae = mean_absolute_error(true, pred)\n",
    "    rmse = np.sqrt(mean_squared_error(true, pred))\n",
    "    mbe = np.mean(pred - true)\n",
    "    return mae, rmse, mbe"
   ]
  },
  {
   "cell_type": "markdown",
   "id": "e3ac0102",
   "metadata": {},
   "source": [
    "Calculating errors for SATA"
   ]
  },
  {
   "cell_type": "code",
   "execution_count": 8,
   "id": "2699b686",
   "metadata": {},
   "outputs": [
    {
     "name": "stdout",
     "output_type": "stream",
     "text": [
      "SatA Errors:\n",
      "MAE: 21.300135\n",
      "RMSE: 26.931318\n",
      "MBE: 21.140396\n"
     ]
    }
   ],
   "source": [
    "mae_A, rmse_A, mbe_A = calculate_errors(Accra_df['AccraGauge'], Accra_df['AccrasatA'])\n",
    "# Printing error metrics\n",
    "print('SatA Errors:')\n",
    "print('MAE:', mae_A)\n",
    "print('RMSE:', rmse_A)\n",
    "print('MBE:', mbe_A)"
   ]
  },
  {
   "cell_type": "code",
   "execution_count": 23,
   "id": "8f4e1ed6",
   "metadata": {},
   "outputs": [
    {
     "data": {
      "text/plain": [
       "Text(0.5, 1.0, 'Accra Gauge vs Accra SatA')"
      ]
     },
     "execution_count": 23,
     "metadata": {},
     "output_type": "execute_result"
    },
    {
     "data": {
      "image/png": "[encoded data removed]",
      "text/plain": [
       "<Figure size 864x432 with 1 Axes>"
      ]
     },
     "metadata": {},
     "output_type": "display_data"
    }
   ],
   "source": [
    "# Visualize errors\n",
    "plt.figure(figsize=(12, 6), facecolor='white')\n",
    "\n",
    "plt.subplot(1, 2, 1)\n",
    "plt.scatter(Accra_df['AccraGauge'], Accra_df['AccrasatA'], alpha=0.5)\n",
    "plt.plot([Accra_df['AccraGauge'].min(), Accra_df['AccrasatA'].max()], [Accra_df['AccraGauge'].min(), Accra_df['AccraGauge'].max()], 'r--')\n",
    "plt.xlabel('Accra Gauge')\n",
    "plt.ylabel('Accra SatA')\n",
    "plt.title('Accra Gauge vs Accra SatA')"
   ]
  },
  {
   "cell_type": "markdown",
   "id": "d4ffd86a",
   "metadata": {},
   "source": [
    "Calculating errors for Accra SatB"
   ]
  },
  {
   "cell_type": "code",
   "execution_count": 9,
   "id": "083e1d97",
   "metadata": {},
   "outputs": [
    {
     "name": "stdout",
     "output_type": "stream",
     "text": [
      "SatB Errors:\n",
      "MAE: 20.997774\n",
      "RMSE: 23.601776\n",
      "MBE: 20.997774\n"
     ]
    }
   ],
   "source": [
    "mae_B, rmse_B, mbe_B = calculate_errors(Accra_df['AccraGauge'], Accra_df['AccrasatB'])\n",
    "# Printing error metrics\n",
    "print('SatB Errors:')\n",
    "print('MAE:', mae_B)\n",
    "print('RMSE:', rmse_B)\n",
    "print('MBE:', mbe_B)"
   ]
  },
  {
   "cell_type": "code",
   "execution_count": 25,
   "id": "403c7d74",
   "metadata": {},
   "outputs": [
    {
     "data": {
      "image/png": "[encoded data removed]",
      "text/plain": [
       "<Figure size 432x288 with 1 Axes>"
      ]
     },
     "metadata": {
      "needs_background": "light"
     },
     "output_type": "display_data"
    }
   ],
   "source": [
    "plt.subplot(1, 2, 2)\n",
    "plt.scatter(Accra_df['AccraGauge'], Accra_df['AccrasatB'], alpha=0.5)\n",
    "plt.plot([Accra_df['AccraGauge'].min(), Accra_df['AccraGauge'].max()], [Accra_df['AccraGauge'].min(), Accra_df['AccraGauge'].max()], 'r--')\n",
    "plt.xlabel('Accra Gauge')\n",
    "plt.ylabel('Accra SatB')\n",
    "plt.title('Accra Gauge vs Accra SatB')\n",
    "plt.tight_layout()\n",
    "plt.show()"
   ]
  },
  {
   "cell_type": "code",
   "execution_count": 12,
   "id": "a2d83d5e",
   "metadata": {},
   "outputs": [
    {
     "name": "stdout",
     "output_type": "stream",
     "text": [
      "For Accra SatB has a lower Mean Absolute Error compared to SatA.\n",
      "For Accra SatB has a lower Root Mean Squared Error compared to SatA.\n",
      "For Accra SatB has a lower Mean Bias Error compared to SatA.\n"
     ]
    }
   ],
   "source": [
    "# Recommendations based on results\n",
    "if mae_A < mae_B:\n",
    "    print('For Accra SatA has a lower Mean Absolute Error compared to SatB.')\n",
    "else:\n",
    "    print('For Accra SatB has a lower Mean Absolute Error compared to SatA.')\n",
    "\n",
    "if rmse_A < rmse_B:\n",
    "    print('For Accra SatA has a lower Root Mean Squared Error compared to SatB.')\n",
    "else:\n",
    "    print('For Accra SatB has a lower Root Mean Squared Error compared to SatA.')\n",
    "\n",
    "if mbe_A < mbe_B:\n",
    "    print('For Accra SatA has a lower Mean Bias Error compared to SatB.')\n",
    "else:\n",
    "    print('For Accra SatB has a lower Mean Bias Error compared to SatA.')"
   ]
  },
  {
   "cell_type": "markdown",
   "id": "c3c33a03",
   "metadata": {},
   "source": [
    "Based on the analysis of the above satellite data for Accra, it's evident that SatB exhibits lower errors compared to SatA.The lower Mean Absolute Error (MAE) indicates that on average, SatelliteB's predictions are closer to the actual values compared to SatelliteA.\n",
    "The lower Root Mean Squared Error (RMSE) is Similar to MAE, a lower RMSE suggests SatelliteB's errors are generally smaller in magnitude.\n",
    "The lower Mean Bias Error (MBE) also implies that SatelliteB's predictions are less consistently skewed in one direction (overestimation or underestimation) compared to SatelliteA.                                   \n",
    "                                     RECOMMENDATION\n",
    "\n",
    "    \n",
    "Use SatelliteB for data collection in Accra: Given its superior performance across multiple metrics, SatelliteB is the more reliable choice for gathering data in Accra."
   ]
  },
  {
   "cell_type": "markdown",
   "id": "79a5b6a8",
   "metadata": {},
   "source": [
    "KUMASI"
   ]
  },
  {
   "cell_type": "markdown",
   "id": "f4e5f4de",
   "metadata": {},
   "source": [
    "USING REQUIRED DIMENTION FOR NORMALIZATION"
   ]
  },
  {
   "cell_type": "code",
   "execution_count": 13,
   "id": "d7f2ba80",
   "metadata": {},
   "outputs": [],
   "source": [
    "Kumasigauge_data=gauge_data_kumasi.sel(lon=-0.19, lat=5.60, method='nearest')\n",
    "KumasisatA_data=Kumasi_SatA.sel(lon=-0.19, lat=5.60, method='nearest')\n",
    "KumasisatB_data=Kumasi_SatB.sel(lon=-0.19, lat=5.60, method='nearest')"
   ]
  },
  {
   "cell_type": "markdown",
   "id": "34654ad3",
   "metadata": {},
   "source": [
    "SELECTING PRECIPITATION AND GROUPING BY TIME.MONTH"
   ]
  },
  {
   "cell_type": "code",
   "execution_count": 14,
   "id": "8375988c",
   "metadata": {},
   "outputs": [],
   "source": [
    "gauge_Kumasi=Kumasigauge_data['precip']\n",
    "guageKP =gauge_Kumasi.groupby('time.month').mean()\n",
    "SatAP_Kumasi=KumasisatA_data['pre']\n",
    "KsatA_precip = SatAP_Kumasi.groupby('time.month').mean()\n",
    "kSatB=KumasisatB_data['precip']\n",
    "KsatB_precip=kSatB.groupby('time.month').mean()"
   ]
  },
  {
   "cell_type": "markdown",
   "id": "cdeab6d8",
   "metadata": {},
   "source": [
    "EXTRACTING THE VALUES FOR THE SATELLITE AND GAUGE PRECIPITATION DATA"
   ]
  },
  {
   "cell_type": "code",
   "execution_count": 15,
   "id": "9a6382eb",
   "metadata": {},
   "outputs": [],
   "source": [
    "Kumasi_gauge1= guageKP.data\n",
    "Kumasi_satA1= KsatA_precip.data\n",
    "Kumasi_satB1= KsatB_precip.data"
   ]
  },
  {
   "cell_type": "code",
   "execution_count": 16,
   "id": "98e16869",
   "metadata": {},
   "outputs": [
    {
     "data": {
      "text/html": [
       "<div>\n",
       "<style scoped>\n",
       "    .dataframe tbody tr th:only-of-type {\n",
       "        vertical-align: middle;\n",
       "    }\n",
       "\n",
       "    .dataframe tbody tr th {\n",
       "        vertical-align: top;\n",
       "    }\n",
       "\n",
       "    .dataframe thead th {\n",
       "        text-align: right;\n",
       "    }\n",
       "</style>\n",
       "<table border=\"1\" class=\"dataframe\">\n",
       "  <thead>\n",
       "    <tr style=\"text-align: right;\">\n",
       "      <th></th>\n",
       "      <th>month</th>\n",
       "      <th>KumasiGauge</th>\n",
       "      <th>KumasisatA</th>\n",
       "      <th>KumasisatB</th>\n",
       "    </tr>\n",
       "  </thead>\n",
       "  <tbody>\n",
       "    <tr>\n",
       "      <th>0</th>\n",
       "      <td>Jan</td>\n",
       "      <td>13.716414</td>\n",
       "      <td>12.833333</td>\n",
       "      <td>19.991428</td>\n",
       "    </tr>\n",
       "    <tr>\n",
       "      <th>1</th>\n",
       "      <td>Feb</td>\n",
       "      <td>52.781338</td>\n",
       "      <td>51.628574</td>\n",
       "      <td>49.428093</td>\n",
       "    </tr>\n",
       "    <tr>\n",
       "      <th>2</th>\n",
       "      <td>March</td>\n",
       "      <td>96.839005</td>\n",
       "      <td>92.790474</td>\n",
       "      <td>102.102852</td>\n",
       "    </tr>\n",
       "    <tr>\n",
       "      <th>3</th>\n",
       "      <td>April</td>\n",
       "      <td>168.641022</td>\n",
       "      <td>152.923798</td>\n",
       "      <td>164.381897</td>\n",
       "    </tr>\n",
       "    <tr>\n",
       "      <th>4</th>\n",
       "      <td>May</td>\n",
       "      <td>162.736862</td>\n",
       "      <td>177.357147</td>\n",
       "      <td>172.738083</td>\n",
       "    </tr>\n",
       "    <tr>\n",
       "      <th>5</th>\n",
       "      <td>Jun</td>\n",
       "      <td>193.893036</td>\n",
       "      <td>184.185730</td>\n",
       "      <td>201.538574</td>\n",
       "    </tr>\n",
       "    <tr>\n",
       "      <th>6</th>\n",
       "      <td>Jul</td>\n",
       "      <td>117.191360</td>\n",
       "      <td>122.757141</td>\n",
       "      <td>117.829529</td>\n",
       "    </tr>\n",
       "    <tr>\n",
       "      <th>7</th>\n",
       "      <td>Aug</td>\n",
       "      <td>69.641823</td>\n",
       "      <td>77.471428</td>\n",
       "      <td>77.853333</td>\n",
       "    </tr>\n",
       "    <tr>\n",
       "      <th>8</th>\n",
       "      <td>Sep</td>\n",
       "      <td>163.805054</td>\n",
       "      <td>136.533325</td>\n",
       "      <td>162.909515</td>\n",
       "    </tr>\n",
       "    <tr>\n",
       "      <th>9</th>\n",
       "      <td>Oct</td>\n",
       "      <td>195.762207</td>\n",
       "      <td>159.742859</td>\n",
       "      <td>162.732849</td>\n",
       "    </tr>\n",
       "    <tr>\n",
       "      <th>10</th>\n",
       "      <td>Nov</td>\n",
       "      <td>61.127430</td>\n",
       "      <td>57.261906</td>\n",
       "      <td>54.795712</td>\n",
       "    </tr>\n",
       "    <tr>\n",
       "      <th>11</th>\n",
       "      <td>Dec</td>\n",
       "      <td>21.471996</td>\n",
       "      <td>25.271429</td>\n",
       "      <td>29.465715</td>\n",
       "    </tr>\n",
       "  </tbody>\n",
       "</table>\n",
       "</div>"
      ],
      "text/plain": [
       "    month  KumasiGauge  KumasisatA  KumasisatB\n",
       "0     Jan    13.716414   12.833333   19.991428\n",
       "1     Feb    52.781338   51.628574   49.428093\n",
       "2   March    96.839005   92.790474  102.102852\n",
       "3   April   168.641022  152.923798  164.381897\n",
       "4     May   162.736862  177.357147  172.738083\n",
       "5     Jun   193.893036  184.185730  201.538574\n",
       "6     Jul   117.191360  122.757141  117.829529\n",
       "7     Aug    69.641823   77.471428   77.853333\n",
       "8     Sep   163.805054  136.533325  162.909515\n",
       "9     Oct   195.762207  159.742859  162.732849\n",
       "10    Nov    61.127430   57.261906   54.795712\n",
       "11    Dec    21.471996   25.271429   29.465715"
      ]
     },
     "execution_count": 16,
     "metadata": {},
     "output_type": "execute_result"
    }
   ],
   "source": [
    "month = ['Jan', 'Feb', 'March', 'April', 'May', 'Jun', 'Jul', 'Aug', 'Sep', 'Oct', 'Nov', 'Dec']\n",
    "data = {'month': month, \n",
    "        'KumasiGauge': Kumasi_gauge1, \n",
    "        'KumasisatA': Kumasi_satA1,\"KumasisatB\":Kumasi_satB1 }\n",
    "Kumasi_df = pd.DataFrame(data=data)\n",
    "Kumasi_df"
   ]
  },
  {
   "cell_type": "markdown",
   "id": "c0973172",
   "metadata": {},
   "source": [
    "Calculating errors for Kumasi SATA"
   ]
  },
  {
   "cell_type": "code",
   "execution_count": 17,
   "id": "c39e1bc4",
   "metadata": {},
   "outputs": [
    {
     "name": "stdout",
     "output_type": "stream",
     "text": [
      "SatA Errors:\n",
      "MAE: 10.8733835\n",
      "RMSE: 15.100536\n",
      "MBE: -5.570867\n"
     ]
    }
   ],
   "source": [
    "mae_KA, rmse_KA, mbe_KA = calculate_errors(Kumasi_df['KumasiGauge'], Kumasi_df['KumasisatA'])\n",
    "# Printing error metrics\n",
    "print('SatA Errors:')\n",
    "print('MAE:', mae_KA)\n",
    "print('RMSE:', rmse_KA)\n",
    "print('MBE:', mbe_KA)"
   ]
  },
  {
   "cell_type": "code",
   "execution_count": 27,
   "id": "96b9ff8b",
   "metadata": {},
   "outputs": [
    {
     "data": {
      "image/png": "[encoded data removed]",
      "text/plain": [
       "<Figure size 432x288 with 1 Axes>"
      ]
     },
     "metadata": {
      "needs_background": "light"
     },
     "output_type": "display_data"
    }
   ],
   "source": [
    "plt.subplot(1, 2, 2)\n",
    "plt.scatter(Kumasi_df['KumasiGauge'], Kumasi_df['KumasisatA'], alpha=0.5)\n",
    "plt.plot([Kumasi_df['KumasiGauge'].min(), Kumasi_df['KumasiGauge'].max()], [Kumasi_df['KumasiGauge'].min(), Kumasi_df['KumasiGauge'].max()], 'r--')\n",
    "plt.xlabel('Kumasi Gauge')\n",
    "plt.ylabel('Kumasi SatA')\n",
    "plt.title('Kumasi Gauge vs Kumasi SatA')\n",
    "plt.tight_layout()\n",
    "plt.show()"
   ]
  },
  {
   "cell_type": "markdown",
   "id": "5b703679",
   "metadata": {},
   "source": [
    "Calculating errors for Kumasi SatB"
   ]
  },
  {
   "cell_type": "code",
   "execution_count": null,
   "id": "48f47259",
   "metadata": {},
   "outputs": [],
   "source": []
  },
  {
   "cell_type": "code",
   "execution_count": 18,
   "id": "38d7fe0c",
   "metadata": {},
   "outputs": [
    {
     "name": "stdout",
     "output_type": "stream",
     "text": [
      "SatB Errors:\n",
      "MAE: 7.8248334\n",
      "RMSE: 11.2491255\n",
      "MBE: -0.15333064\n"
     ]
    }
   ],
   "source": [
    "mae_KB, rmse_KB, mbe_KB = calculate_errors(Kumasi_df['KumasiGauge'], Kumasi_df['KumasisatB'])\n",
    "# Printing error metrics\n",
    "print('SatB Errors:')\n",
    "print('MAE:', mae_KB)\n",
    "print('RMSE:', rmse_KB)\n",
    "print('MBE:', mbe_KB)"
   ]
  },
  {
   "cell_type": "code",
   "execution_count": 28,
   "id": "e4cf4f7f",
   "metadata": {},
   "outputs": [
    {
     "data": {
      "image/png": "[encoded data removed]",
      "text/plain": [
       "<Figure size 432x288 with 1 Axes>"
      ]
     },
     "metadata": {
      "needs_background": "light"
     },
     "output_type": "display_data"
    }
   ],
   "source": [
    "plt.subplot(1, 2, 2)\n",
    "plt.scatter(Kumasi_df['KumasiGauge'], Kumasi_df['KumasisatB'], alpha=0.5)\n",
    "plt.plot([Kumasi_df['KumasiGauge'].min(), Kumasi_df['KumasiGauge'].max()], [Kumasi_df['KumasiGauge'].min(), Kumasi_df['KumasiGauge'].max()], 'r--')\n",
    "plt.xlabel('Kumasi Gauge')\n",
    "plt.ylabel('Kumasi SatB')\n",
    "plt.title('Kumasi Gauge vs Kumasi SatB')\n",
    "plt.tight_layout()\n",
    "plt.show()"
   ]
  },
  {
   "cell_type": "code",
   "execution_count": 20,
   "id": "465e5a5d",
   "metadata": {},
   "outputs": [
    {
     "name": "stdout",
     "output_type": "stream",
     "text": [
      "For Kumasi SatB has a lower Mean Absolute Error compared to SatA.\n",
      "For Kumasi SatB has a lower Root Mean Squared Error compared to SatA.\n",
      "For Kumasi SatA has a lower Mean Bias Error compared to SatB.\n"
     ]
    }
   ],
   "source": [
    "# Recommendations based on results\n",
    "if mae_KA < mae_KB:\n",
    "    print('For Kumasi SatA has a lower Mean Absolute Error compared to SatB.')\n",
    "else:\n",
    "    print('For Kumasi SatB has a lower Mean Absolute Error compared to SatA.')\n",
    "\n",
    "if rmse_KA < rmse_KB:\n",
    "    print('For Kumasi SatA has a lower Root Mean Squared Error compared to SatB.')\n",
    "else:\n",
    "    print('For Kumasi SatB has a lower Root Mean Squared Error compared to SatA.')\n",
    "\n",
    "if mbe_KA < mbe_KB:\n",
    "    print('For Kumasi SatA has a lower Mean Bias Error compared to SatB.')\n",
    "else:\n",
    "    print('For Kumasi SatB has a lower Mean Bias Error compared to SatA.')"
   ]
  },
  {
   "cell_type": "markdown",
   "id": "eab2cf15",
   "metadata": {},
   "source": [
    "Lower Mean Absolute Error (MAE) and Lower Root Mean Squared Error (RMSE) for SatB, On average, SatB's predictions are closer to the actual values and its errors are generally smaller than SatA. This indicates SatB might be more accurate overall.\n",
    "Lower Mean Bias Error (MBE) for SatA means SatA's predictions are less consistently skewed in one direction (overestimation or underestimation) compared to SatB. This suggests SatA might be more systematic in its errors.\n",
    "\n",
    "Recommendations:\n",
    "\n",
    "Considering the impact of errors: Think about how these errors affect your application. If random errors (indicated by MAE and RMSE) are more concerning, SatB might be preferable. If consistent bias (indicated by MBE) is a bigger issue, SatA might be a better choice.\n",
    "\n",
    "Evaluating the bias in SatB: Investigate why SatB has a higher bias. Can the data be corrected to account for this bias?\n",
    "\n",
    "Explore combining data: If possible, consider using data from both satellites and applying techniques to account for their respective biases. This could potentially yield a more comprehensive and accurate dataset."
   ]
  },
  {
   "cell_type": "code",
   "execution_count": null,
   "id": "ed797a0a",
   "metadata": {},
   "outputs": [],
   "source": []
  }
 ],
 "metadata": {
  "kernelspec": {
   "display_name": "Python 3 (ipykernel)",
   "language": "python",
   "name": "python3"
  },
  "language_info": {
   "codemirror_mode": {
    "name": "ipython",
    "version": 3
   },
   "file_extension": ".py",
   "mimetype": "text/x-python",
   "name": "python",
   "nbconvert_exporter": "python",
   "pygments_lexer": "ipython3",
   "version": "3.9.7"
  }
 },
 "nbformat": 4,
 "nbformat_minor": 5
}
