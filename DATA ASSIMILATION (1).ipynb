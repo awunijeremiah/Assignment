{
 "cells": [
  {
   "cell_type": "code",
   "execution_count": 1,
   "id": "87d6339f",
   "metadata": {},
   "outputs": [],
   "source": [
    "import numpy as np"
   ]
  },
  {
   "cell_type": "markdown",
   "id": "186af2e9",
   "metadata": {},
   "source": [
    "The observational and model prediction data"
   ]
  },
  {
   "cell_type": "code",
   "execution_count": 2,
   "id": "d87830c8",
   "metadata": {},
   "outputs": [],
   "source": [
    "observations = np.array([15.2, 16.1, 14.5, 15.8, 25.0])\n",
    "model_output = np.array([14.8, 15.5, 14.0, 16.0, 25.3])"
   ]
  },
  {
   "cell_type": "code",
   "execution_count": 3,
   "id": "3e1b3193",
   "metadata": {},
   "outputs": [],
   "source": [
    "# Defining the covariance matrices\n",
    "obs_cov = np.diag([0.1, 0.1, 0.1, 0.1, 0.1])  # Observational error covariance\n",
    "model_cov = np.diag([0.1, 0.1, 0.1, 0.1, 0.1])  # Model error covariance"
   ]
  },
  {
   "cell_type": "code",
   "execution_count": 4,
   "id": "cdd13fd1",
   "metadata": {},
   "outputs": [],
   "source": [
    "# Initializing the analysis field\n",
    "analysis = np.zeros_like(model_output)"
   ]
  },
  {
   "cell_type": "markdown",
   "id": "741a4fae",
   "metadata": {},
   "source": [
    "# Perform the Kalman filter data assimilation"
   ]
  },
  {
   "cell_type": "code",
   "execution_count": 5,
   "id": "c9094fce",
   "metadata": {},
   "outputs": [],
   "source": [
    "\n",
    "for i in range(len(model_output)):\n",
    "    # Computing the innovation\n",
    "    innovation = observations[i] - model_output[i]\n",
    "    \n",
    "    # Computing the Kalman gain\n",
    "    kalman_gain = model_cov[i, i] / (model_cov[i, i] + obs_cov[i, i])\n",
    "    \n",
    "    # Updating the analysis field\n",
    "    analysis[i] = model_output[i] + kalman_gain * innovation\n",
    "\n"
   ]
  },
  {
   "cell_type": "code",
   "execution_count": 6,
   "id": "34014912",
   "metadata": {},
   "outputs": [
    {
     "name": "stdout",
     "output_type": "stream",
     "text": [
      "Analysis field: [15.   15.8  14.25 15.9  25.15]\n",
      "RMSE (analysis vs. observations): 0.2121320343559641\n",
      "Bias (analysis vs. observations): -0.10000000000000035\n"
     ]
    }
   ],
   "source": [
    "# Calculating the RMSE and bias\n",
    "rmse_analysis = np.sqrt(np.mean((analysis - observations) ** 2))\n",
    "bias_analysis = np.mean(analysis - observations)\n",
    "\n",
    "# Print the results\n",
    "print(\"Analysis field:\", analysis)\n",
    "print(\"RMSE (analysis vs. observations):\", rmse_analysis)\n",
    "print(\"Bias (analysis vs. observations):\", bias_analysis)\n"
   ]
  },
  {
   "cell_type": "markdown",
   "id": "16834f4c",
   "metadata": {},
   "source": [
    "Analysis field: [15.0, 15.8, 14.25, 15.9, 25.15]\n",
    "Original observational data: [15.2, 16.1, 14.5, 15.8, 25.0]\n",
    "NWP model output: [14.8, 15.5, 14.0, 16.0, 25.3]\n",
    "\n",
    "Comparison:\n",
    "The analysis field is closer to the observational data than the NWP model output.\n",
    "The analysis field has a smaller range (15.0-25.15) compared to the NWP model output (14.0-25.3).\n",
    "The analysis field has a smaller RMSE (0.212) and bias (-0.1) compared to the NWP model output (RMSE: 0.424, bias: -0.2).\n",
    "The data assimilation process using the Kalman filter has improved the accuracy of the analysis field compared to the NWP model output.\n",
    "The analysis field is closer to the observational data, with a smaller RMSE and bias."
   ]
  },
  {
   "cell_type": "code",
   "execution_count": 7,
   "id": "5c658902",
   "metadata": {},
   "outputs": [
    {
     "name": "stdout",
     "output_type": "stream",
     "text": [
      "RMSE (NWP model output vs. observations): 0.4242640687119287\n",
      "Bias (NWP model output vs. observations): -0.2\n",
      "RMSE (analysis field vs. observations): 0.2121320343559641\n",
      "Bias (analysis field vs. observations): -0.10000000000000035\n",
      "RMSE improved by 50.00000000000006 %\n",
      "Bias improved by 49.99999999999983 %\n"
     ]
    }
   ],
   "source": [
    "\n",
    "\n",
    "# Calculate RMSE and bias for NWP model output vs. observations\n",
    "rmse_nwp = np.sqrt(np.mean((model_output - observations) ** 2))\n",
    "bias_nwp = np.mean(model_output - observations)\n",
    "\n",
    "# Calculate RMSE and bias for analysis field vs. observations\n",
    "rmse_analysis = np.sqrt(np.mean((analysis - observations) ** 2))\n",
    "bias_analysis = np.mean(analysis - observations)\n",
    "\n",
    "# Print evaluation results\n",
    "print(\"RMSE (NWP model output vs. observations):\", rmse_nwp)\n",
    "print(\"Bias (NWP model output vs. observations):\", bias_nwp)\n",
    "print(\"RMSE (analysis field vs. observations):\", rmse_analysis)\n",
    "print(\"Bias (analysis field vs. observations):\", bias_analysis)\n",
    "\n",
    "# Evaluating improvements\n",
    "if rmse_analysis < rmse_nwp:\n",
    "    print(\"RMSE improved by\", (rmse_nwp - rmse_analysis) / rmse_nwp * 100, \"%\")\n",
    "else:\n",
    "    print(\"RMSE degraded by\", (rmse_analysis - rmse_nwp) / rmse_nwp * 100, \"%\")\n",
    "\n",
    "if abs(bias_analysis) < abs(bias_nwp):\n",
    "    print(\"Bias improved by\", (abs(bias_nwp) - abs(bias_analysis)) / abs(bias_nwp) * 100, \"%\")\n",
    "else:\n",
    "    print(\"Bias degraded by\", (abs(bias_analysis) - abs(bias_nwp)) / abs(bias_nwp) * 100, \"%\")\n"
   ]
  },
  {
   "cell_type": "markdown",
   "id": "dd5c7d92",
   "metadata": {},
   "source": [
    "\n",
    "\n",
    "For RMSE (Root Mean Square Error):\n",
    "\n",
    "RMSE (NWP model output vs. observations): 0.424\n",
    "RMSE (analysis field vs. observations): 0.212\n",
    "\n",
    "The RMSE decreased from 0.424 to 0.212, indicating a significant improvement in the accuracy of the analysis field compared to the NWP model output. This means that the data assimilation process reduced the error in the predictions by about 50% (0.212 / 0.424).\n",
    "For Bias:\n",
    "\n",
    "Bias (NWP model output vs. observations): -0.2\n",
    "Bias (analysis field vs. observations): -0.1\n",
    "\n",
    "The bias decreased from -0.2 to -0.1, indicating a reduction in the systematic error in the predictions. The bias is now closer to zero, indicating that the analysis field is less biased compared to the NWP model output.\n",
    "\n",
    "Overall, the data assimilation process improved the accuracy and reduced the bias in the predictions, resulting in a more reliable analysis field. The RMSE and bias metrics provide a quantitative measure of the improvements made by the data assimilation process.\n",
    "\n"
   ]
  },
  {
   "cell_type": "code",
   "execution_count": null,
   "id": "cfb4f455",
   "metadata": {},
   "outputs": [],
   "source": []
  }
 ],
 "metadata": {
  "kernelspec": {
   "display_name": "Python 3 (ipykernel)",
   "language": "python",
   "name": "python3"
  },
  "language_info": {
   "codemirror_mode": {
    "name": "ipython",
    "version": 3
   },
   "file_extension": ".py",
   "mimetype": "text/x-python",
   "name": "python",
   "nbconvert_exporter": "python",
   "pygments_lexer": "ipython3",
   "version": "3.9.7"
  }
 },
 "nbformat": 4,
 "nbformat_minor": 5
}
